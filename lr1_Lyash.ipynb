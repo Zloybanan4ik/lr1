{
 "cells": [
  {
   "cell_type": "code",
   "execution_count": 1,
   "id": "1efb3f36-8353-4510-bbcb-995b898ae49b",
   "metadata": {},
   "outputs": [],
   "source": [
    "from matplotlib import pylab as plt\n",
    "%matplotlib inline"
   ]
  },
  {
   "cell_type": "code",
   "execution_count": 2,
   "id": "f03fbff8-0d30-4e22-96f8-de39e78c8a7a",
   "metadata": {},
   "outputs": [
    {
     "data": {
      "text/plain": [
       "[<matplotlib.lines.Line2D at 0x2bdf5f907f0>]"
      ]
     },
     "execution_count": 2,
     "metadata": {},
     "output_type": "execute_result"
    },
    {
     "data": {
      "image/png": "[encoded data removed]",
      "text/plain": [
       "<Figure size 640x480 with 1 Axes>"
      ]
     },
     "metadata": {},
     "output_type": "display_data"
    }
   ],
   "source": [
    "x = [i for i in range(50)]\n",
    "y = [i**2 for i in range(50)]\n",
    "plt.plot(x, y)"
   ]
  },
  {
   "cell_type": "markdown",
   "id": "ecf29aae-4440-47b6-8046-5507150e60d6",
   "metadata": {},
   "source": [
    "# Заголовок первого уровня\n",
    "## Заголовок второго уровня\n",
    "\n",
    "**Полужирный текст**, *курсив*, `код в строке`\n",
    "\n",
    "Список:\n",
    "- Пункт 1\n",
    "- Пункт 2\n",
    "- Пункт 3\n",
    "\n",
    "Формула: $y = mx + b$"
   ]
  },
  {
   "cell_type": "markdown",
   "id": "eb9c06d1-f479-4664-b1e1-6446805018cf",
   "metadata": {},
   "source": [
    "# Практическое задание №1\n",
    "\n",
    "**Полужирный текст**, *курсивный текст*\n",
    "\n",
    "Нумерованный список:\n",
    "1. Первый пункт\n",
    "2. Второй пункт\n",
    "3. Третий пункт\n",
    "\n",
    "Маркированный список:\n",
    "- Элемент A\n",
    "- Элемент B\n",
    "- Элемент C\n",
    "\n",
    "12. Определение обратной матрицы (если детерминант ненулевой):\n",
    "\n",
    "$$ A^{-1} = \\frac{1}{\\det(A)} \\operatorname{adj}(A) $$\n",
    "\n",
    "Изображение:\n",
    "![Пример изображения](https://example.com/image.jpg)"
   ]
  },
  {
   "cell_type": "code",
   "execution_count": 9,
   "id": "197d09fa-2334-4ecd-b4b5-347fcf22c826",
   "metadata": {},
   "outputs": [
    {
     "name": "stdin",
     "output_type": "stream",
     "text": [
      "Введите ваше имя:  Денис\n"
     ]
    },
    {
     "name": "stdout",
     "output_type": "stream",
     "text": [
      "Привет, Денис! Добро пожаловать в JupyterLab / Google Colab!\n"
     ]
    }
   ],
   "source": [
    "# Ячейка Python-кода\n",
    "name = input(\"Введите ваше имя: \")\n",
    "print(f\"Привет, {name}! Добро пожаловать в JupyterLab / Google Colab!\")"
   ]
  },
  {
   "cell_type": "code",
   "execution_count": 10,
   "id": "aceb0160-afa0-4d0d-aad4-2e720ea0ce19",
   "metadata": {},
   "outputs": [
    {
     "name": "stdout",
     "output_type": "stream",
     "text": [
      "Содержимое файла:\n",
      "Первая строка текста\n",
      "Вторая строка текста\n",
      "Третья строка текста\n",
      "\n",
      "\n",
      "Файл существует: True\n",
      "Файл успешно удален\n",
      "Файл существует после удаления: False\n"
     ]
    }
   ],
   "source": [
    "import os\n",
    "\n",
    "# 1. Создание и сохранение текстового файла\n",
    "with open('example.txt', 'w', encoding='utf-8') as file:\n",
    "    # 2. Запись нескольких строк текста\n",
    "    file.write(\"Первая строка текста\\n\")\n",
    "    file.write(\"Вторая строка текста\\n\")\n",
    "    file.write(\"Третья строка текста\\n\")\n",
    "\n",
    "# 3. Закрытие файла благодаря with и открытие для чтения\n",
    "with open('example.txt', 'r', encoding='utf-8') as file:\n",
    "    content = file.read()\n",
    "    print(\"Содержимое файла:\")\n",
    "    print(content)\n",
    "\n",
    "# 4. Проверка на существование файла\n",
    "file_exists = os.path.exists('example.txt')\n",
    "print(f\"\\nФайл существует: {file_exists}\")\n",
    "\n",
    "# 5. Удаление файла\n",
    "if file_exists:\n",
    "    os.remove('example.txt')\n",
    "    print(\"Файл успешно удален\")\n",
    "    # Проверка после удаления\n",
    "    print(f\"Файл существует после удаления: {os.path.exists('example.txt')}\")\n",
    "else:\n",
    "    print(\"Файл не найден для удаления\")"
   ]
  },
  {
   "cell_type": "code",
   "execution_count": 11,
   "id": "c1570582-72d7-46f4-a8cd-d8bc1365c9ca",
   "metadata": {},
   "outputs": [
    {
     "data": {
      "application/json": {
       "cell": {
        "!": "OSMagics",
        "HTML": "Other",
        "SVG": "Other",
        "bash": "Other",
        "capture": "ExecutionMagics",
        "cmd": "Other",
        "code_wrap": "ExecutionMagics",
        "debug": "ExecutionMagics",
        "file": "Other",
        "html": "DisplayMagics",
        "javascript": "DisplayMagics",
        "js": "DisplayMagics",
        "latex": "DisplayMagics",
        "markdown": "DisplayMagics",
        "perl": "Other",
        "prun": "ExecutionMagics",
        "pypy": "Other",
        "python": "Other",
        "python2": "Other",
        "python3": "Other",
        "ruby": "Other",
        "script": "ScriptMagics",
        "sh": "Other",
        "svg": "DisplayMagics",
        "sx": "OSMagics",
        "system": "OSMagics",
        "time": "ExecutionMagics",
        "timeit": "ExecutionMagics",
        "writefile": "OSMagics"
       },
       "line": {
        "alias": "OSMagics",
        "alias_magic": "BasicMagics",
        "autoawait": "AsyncMagics",
        "autocall": "AutoMagics",
        "automagic": "AutoMagics",
        "autosave": "KernelMagics",
        "bookmark": "OSMagics",
        "cd": "OSMagics",
        "clear": "KernelMagics",
        "cls": "KernelMagics",
        "code_wrap": "ExecutionMagics",
        "colors": "BasicMagics",
        "conda": "PackagingMagics",
        "config": "ConfigMagics",
        "connect_info": "KernelMagics",
        "copy": "Other",
        "ddir": "Other",
        "debug": "ExecutionMagics",
        "dhist": "OSMagics",
        "dirs": "OSMagics",
        "doctest_mode": "BasicMagics",
        "echo": "Other",
        "ed": "Other",
        "edit": "KernelMagics",
        "env": "OSMagics",
        "gui": "BasicMagics",
        "hist": "Other",
        "history": "HistoryMagics",
        "killbgscripts": "ScriptMagics",
        "ldir": "Other",
        "less": "KernelMagics",
        "load": "CodeMagics",
        "load_ext": "ExtensionMagics",
        "loadpy": "CodeMagics",
        "logoff": "LoggingMagics",
        "logon": "LoggingMagics",
        "logstart": "LoggingMagics",
        "logstate": "LoggingMagics",
        "logstop": "LoggingMagics",
        "ls": "Other",
        "lsmagic": "BasicMagics",
        "macro": "ExecutionMagics",
        "magic": "BasicMagics",
        "mamba": "PackagingMagics",
        "matplotlib": "PylabMagics",
        "micromamba": "PackagingMagics",
        "mkdir": "Other",
        "more": "KernelMagics",
        "notebook": "BasicMagics",
        "page": "BasicMagics",
        "pastebin": "CodeMagics",
        "pdb": "ExecutionMagics",
        "pdef": "NamespaceMagics",
        "pdoc": "NamespaceMagics",
        "pfile": "NamespaceMagics",
        "pinfo": "NamespaceMagics",
        "pinfo2": "NamespaceMagics",
        "pip": "PackagingMagics",
        "popd": "OSMagics",
        "pprint": "BasicMagics",
        "precision": "BasicMagics",
        "prun": "ExecutionMagics",
        "psearch": "NamespaceMagics",
        "psource": "NamespaceMagics",
        "pushd": "OSMagics",
        "pwd": "OSMagics",
        "pycat": "OSMagics",
        "pylab": "PylabMagics",
        "qtconsole": "KernelMagics",
        "quickref": "BasicMagics",
        "recall": "HistoryMagics",
        "rehashx": "OSMagics",
        "reload_ext": "ExtensionMagics",
        "ren": "Other",
        "rep": "Other",
        "rerun": "HistoryMagics",
        "reset": "NamespaceMagics",
        "reset_selective": "NamespaceMagics",
        "rmdir": "Other",
        "run": "ExecutionMagics",
        "save": "CodeMagics",
        "sc": "OSMagics",
        "set_env": "OSMagics",
        "store": "StoreMagics",
        "sx": "OSMagics",
        "system": "OSMagics",
        "tb": "ExecutionMagics",
        "time": "ExecutionMagics",
        "timeit": "ExecutionMagics",
        "unalias": "OSMagics",
        "unload_ext": "ExtensionMagics",
        "who": "NamespaceMagics",
        "who_ls": "NamespaceMagics",
        "whos": "NamespaceMagics",
        "xdel": "NamespaceMagics",
        "xmode": "BasicMagics"
       }
      },
      "text/plain": [
       "Available line magics:\n",
       "%alias  %alias_magic  %autoawait  %autocall  %automagic  %autosave  %bookmark  %cd  %clear  %cls  %code_wrap  %colors  %conda  %config  %connect_info  %copy  %ddir  %debug  %dhist  %dirs  %doctest_mode  %echo  %ed  %edit  %env  %gui  %hist  %history  %killbgscripts  %ldir  %less  %load  %load_ext  %loadpy  %logoff  %logon  %logstart  %logstate  %logstop  %ls  %lsmagic  %macro  %magic  %mamba  %matplotlib  %micromamba  %mkdir  %more  %notebook  %page  %pastebin  %pdb  %pdef  %pdoc  %pfile  %pinfo  %pinfo2  %pip  %popd  %pprint  %precision  %prun  %psearch  %psource  %pushd  %pwd  %pycat  %pylab  %qtconsole  %quickref  %recall  %rehashx  %reload_ext  %ren  %rep  %rerun  %reset  %reset_selective  %rmdir  %run  %save  %sc  %set_env  %store  %sx  %system  %tb  %time  %timeit  %unalias  %unload_ext  %who  %who_ls  %whos  %xdel  %xmode\n",
       "\n",
       "Available cell magics:\n",
       "%%!  %%HTML  %%SVG  %%bash  %%capture  %%cmd  %%code_wrap  %%debug  %%file  %%html  %%javascript  %%js  %%latex  %%markdown  %%perl  %%prun  %%pypy  %%python  %%python2  %%python3  %%ruby  %%script  %%sh  %%svg  %%sx  %%system  %%time  %%timeit  %%writefile\n",
       "\n",
       "Automagic is ON, % prefix IS NOT needed for line magics."
      ]
     },
     "execution_count": 11,
     "metadata": {},
     "output_type": "execute_result"
    }
   ],
   "source": [
    "%lsmagic"
   ]
  },
  {
   "cell_type": "code",
   "execution_count": 14,
   "id": "9cb23cd9-68ef-4f6c-9be4-2d09738d984b",
   "metadata": {},
   "outputs": [
    {
     "name": "stdout",
     "output_type": "stream",
     "text": [
      "Writing script.py\n"
     ]
    }
   ],
   "source": [
    "%%writefile script.py\n",
    "for i in range(3):\n",
    "    print(f\"Итерация {i}\")"
   ]
  },
  {
   "cell_type": "code",
   "execution_count": 19,
   "id": "cea63be3-f732-456e-a2fe-8b8246daa65d",
   "metadata": {
    "scrolled": true
   },
   "outputs": [
    {
     "name": "stdout",
     "output_type": "stream",
     "text": [
      "CPU times: total: 31.2 ms\n",
      "Wall time: 80 ms\n"
     ]
    },
    {
     "name": "stderr",
     "output_type": "stream",
     "text": [
      "Python \n"
     ]
    }
   ],
   "source": [
    "%%time\n",
    "!Python script.py"
   ]
  },
  {
   "cell_type": "code",
   "execution_count": 21,
   "id": "d0490967-7008-444a-9668-06cb3946ce46",
   "metadata": {},
   "outputs": [],
   "source": [
    "!mkdir test"
   ]
  },
  {
   "cell_type": "code",
   "execution_count": 22,
   "id": "a73abd69-5bba-4bbe-95b7-872cfddddc49",
   "metadata": {},
   "outputs": [],
   "source": [
    "!rmdir test"
   ]
  },
  {
   "cell_type": "code",
   "execution_count": null,
   "id": "6ebff10c-5911-4338-ad9d-a8977b581bb8",
   "metadata": {},
   "outputs": [],
   "source": []
  }
 ],
 "metadata": {
  "kernelspec": {
   "display_name": "Python 3 (ipykernel)",
   "language": "python",
   "name": "python3"
  },
  "language_info": {
   "codemirror_mode": {
    "name": "ipython",
    "version": 3
   },
   "file_extension": ".py",
   "mimetype": "text/x-python",
   "name": "python",
   "nbconvert_exporter": "python",
   "pygments_lexer": "ipython3",
   "version": "3.9.13"
  }
 },
 "nbformat": 4,
 "nbformat_minor": 5
}
